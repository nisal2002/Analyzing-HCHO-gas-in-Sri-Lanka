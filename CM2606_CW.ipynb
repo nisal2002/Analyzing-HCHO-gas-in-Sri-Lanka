{
 "cells": [
  {
   "cell_type": "code",
   "execution_count": 1,
   "id": "dbb24938-246f-4deb-a753-bf38ef1eac05",
   "metadata": {},
   "outputs": [],
   "source": [
    "import pandas as pd\n",
    "import matplotlib.pyplot as plt\n",
    "import seaborn as sns"
   ]
  },
  {
   "cell_type": "code",
   "execution_count": 2,
   "id": "0ebf547f-3831-4210-8f35-db6e9112dc34",
   "metadata": {},
   "outputs": [],
   "source": [
    "columns = [\"hcho-reading\",\"location\",\"current-date\",\"next-date\"]"
   ]
  },
  {
   "cell_type": "code",
   "execution_count": 3,
   "id": "8ad376ad-492f-4d79-8233-3b33a951c125",
   "metadata": {},
   "outputs": [
    {
     "data": {
      "text/html": [
       "<div>\n",
       "<style scoped>\n",
       "    .dataframe tbody tr th:only-of-type {\n",
       "        vertical-align: middle;\n",
       "    }\n",
       "\n",
       "    .dataframe tbody tr th {\n",
       "        vertical-align: top;\n",
       "    }\n",
       "\n",
       "    .dataframe thead th {\n",
       "        text-align: right;\n",
       "    }\n",
       "</style>\n",
       "<table border=\"1\" class=\"dataframe\">\n",
       "  <thead>\n",
       "    <tr style=\"text-align: right;\">\n",
       "      <th></th>\n",
       "      <th>hcho-reading</th>\n",
       "      <th>location</th>\n",
       "      <th>current-date</th>\n",
       "      <th>next-date</th>\n",
       "    </tr>\n",
       "  </thead>\n",
       "  <tbody>\n",
       "    <tr>\n",
       "      <th>0</th>\n",
       "      <td>0.000197</td>\n",
       "      <td>Colombo Proper</td>\n",
       "      <td>2019-01-01</td>\n",
       "      <td>2019-01-02</td>\n",
       "    </tr>\n",
       "    <tr>\n",
       "      <th>1</th>\n",
       "      <td>0.000263</td>\n",
       "      <td>Colombo Proper</td>\n",
       "      <td>2019-01-02</td>\n",
       "      <td>2019-01-03</td>\n",
       "    </tr>\n",
       "    <tr>\n",
       "      <th>2</th>\n",
       "      <td>0.000099</td>\n",
       "      <td>Colombo Proper</td>\n",
       "      <td>2019-01-03</td>\n",
       "      <td>2019-01-04</td>\n",
       "    </tr>\n",
       "    <tr>\n",
       "      <th>3</th>\n",
       "      <td>0.000210</td>\n",
       "      <td>Colombo Proper</td>\n",
       "      <td>2019-01-04</td>\n",
       "      <td>2019-01-05</td>\n",
       "    </tr>\n",
       "    <tr>\n",
       "      <th>4</th>\n",
       "      <td>0.000179</td>\n",
       "      <td>Colombo Proper</td>\n",
       "      <td>2019-01-05</td>\n",
       "      <td>2019-01-06</td>\n",
       "    </tr>\n",
       "  </tbody>\n",
       "</table>\n",
       "</div>"
      ],
      "text/plain": [
       "   hcho-reading        location current-date   next-date\n",
       "0      0.000197  Colombo Proper   2019-01-01  2019-01-02\n",
       "1      0.000263  Colombo Proper   2019-01-02  2019-01-03\n",
       "2      0.000099  Colombo Proper   2019-01-03  2019-01-04\n",
       "3      0.000210  Colombo Proper   2019-01-04  2019-01-05\n",
       "4      0.000179  Colombo Proper   2019-01-05  2019-01-06"
      ]
     },
     "execution_count": 3,
     "metadata": {},
     "output_type": "execute_result"
    }
   ],
   "source": [
    "# load datasets as dataframes\n",
    "col_mat_nuw_df = pd.read_csv('col_mat_nuw_output.csv',names=columns, na_values=[\"?\"])\n",
    "col_mat_nuw_df.head()"
   ]
  },
  {
   "cell_type": "code",
   "execution_count": 4,
   "id": "17442731-3c9e-4d1c-ac3a-b85ad510eabb",
   "metadata": {},
   "outputs": [
    {
     "data": {
      "text/html": [
       "<div>\n",
       "<style scoped>\n",
       "    .dataframe tbody tr th:only-of-type {\n",
       "        vertical-align: middle;\n",
       "    }\n",
       "\n",
       "    .dataframe tbody tr th {\n",
       "        vertical-align: top;\n",
       "    }\n",
       "\n",
       "    .dataframe thead th {\n",
       "        text-align: right;\n",
       "    }\n",
       "</style>\n",
       "<table border=\"1\" class=\"dataframe\">\n",
       "  <thead>\n",
       "    <tr style=\"text-align: right;\">\n",
       "      <th></th>\n",
       "      <th>hcho-reading</th>\n",
       "      <th>location</th>\n",
       "      <th>current-date</th>\n",
       "      <th>next-date</th>\n",
       "    </tr>\n",
       "  </thead>\n",
       "  <tbody>\n",
       "    <tr>\n",
       "      <th>0</th>\n",
       "      <td>0.000176</td>\n",
       "      <td>Kandy Proper</td>\n",
       "      <td>2019-01-01</td>\n",
       "      <td>2019-01-02</td>\n",
       "    </tr>\n",
       "    <tr>\n",
       "      <th>1</th>\n",
       "      <td>0.000092</td>\n",
       "      <td>Kandy Proper</td>\n",
       "      <td>2019-01-02</td>\n",
       "      <td>2019-01-03</td>\n",
       "    </tr>\n",
       "    <tr>\n",
       "      <th>2</th>\n",
       "      <td>NaN</td>\n",
       "      <td>Kandy Proper</td>\n",
       "      <td>2019-01-03</td>\n",
       "      <td>2019-01-04</td>\n",
       "    </tr>\n",
       "    <tr>\n",
       "      <th>3</th>\n",
       "      <td>0.000191</td>\n",
       "      <td>Kandy Proper</td>\n",
       "      <td>2019-01-04</td>\n",
       "      <td>2019-01-05</td>\n",
       "    </tr>\n",
       "    <tr>\n",
       "      <th>4</th>\n",
       "      <td>0.000122</td>\n",
       "      <td>Kandy Proper</td>\n",
       "      <td>2019-01-05</td>\n",
       "      <td>2019-01-06</td>\n",
       "    </tr>\n",
       "  </tbody>\n",
       "</table>\n",
       "</div>"
      ],
      "text/plain": [
       "   hcho-reading      location current-date   next-date\n",
       "0      0.000176  Kandy Proper   2019-01-01  2019-01-02\n",
       "1      0.000092  Kandy Proper   2019-01-02  2019-01-03\n",
       "2           NaN  Kandy Proper   2019-01-03  2019-01-04\n",
       "3      0.000191  Kandy Proper   2019-01-04  2019-01-05\n",
       "4      0.000122  Kandy Proper   2019-01-05  2019-01-06"
      ]
     },
     "execution_count": 4,
     "metadata": {},
     "output_type": "execute_result"
    }
   ],
   "source": [
    "kan_df = pd.read_csv('kan_output.csv',names=columns, na_values=[\"?\"])\n",
    "kan_df.head()"
   ]
  },
  {
   "cell_type": "code",
   "execution_count": 5,
   "id": "76b1cd22-92ba-4b0e-b23a-ba848f8c3d92",
   "metadata": {},
   "outputs": [
    {
     "data": {
      "text/html": [
       "<div>\n",
       "<style scoped>\n",
       "    .dataframe tbody tr th:only-of-type {\n",
       "        vertical-align: middle;\n",
       "    }\n",
       "\n",
       "    .dataframe tbody tr th {\n",
       "        vertical-align: top;\n",
       "    }\n",
       "\n",
       "    .dataframe thead th {\n",
       "        text-align: right;\n",
       "    }\n",
       "</style>\n",
       "<table border=\"1\" class=\"dataframe\">\n",
       "  <thead>\n",
       "    <tr style=\"text-align: right;\">\n",
       "      <th></th>\n",
       "      <th>hcho-reading</th>\n",
       "      <th>location</th>\n",
       "      <th>current-date</th>\n",
       "      <th>next-date</th>\n",
       "    </tr>\n",
       "  </thead>\n",
       "  <tbody>\n",
       "    <tr>\n",
       "      <th>0</th>\n",
       "      <td>NaN</td>\n",
       "      <td>Bibile, Monaragala</td>\n",
       "      <td>2019-01-01</td>\n",
       "      <td>2019-01-02</td>\n",
       "    </tr>\n",
       "    <tr>\n",
       "      <th>1</th>\n",
       "      <td>0.000019</td>\n",
       "      <td>Bibile, Monaragala</td>\n",
       "      <td>2019-01-02</td>\n",
       "      <td>2019-01-03</td>\n",
       "    </tr>\n",
       "    <tr>\n",
       "      <th>2</th>\n",
       "      <td>0.000028</td>\n",
       "      <td>Bibile, Monaragala</td>\n",
       "      <td>2019-01-03</td>\n",
       "      <td>2019-01-04</td>\n",
       "    </tr>\n",
       "    <tr>\n",
       "      <th>3</th>\n",
       "      <td>0.000037</td>\n",
       "      <td>Bibile, Monaragala</td>\n",
       "      <td>2019-01-04</td>\n",
       "      <td>2019-01-05</td>\n",
       "    </tr>\n",
       "    <tr>\n",
       "      <th>4</th>\n",
       "      <td>-0.000018</td>\n",
       "      <td>Bibile, Monaragala</td>\n",
       "      <td>2019-01-05</td>\n",
       "      <td>2019-01-06</td>\n",
       "    </tr>\n",
       "  </tbody>\n",
       "</table>\n",
       "</div>"
      ],
      "text/plain": [
       "   hcho-reading            location current-date   next-date\n",
       "0           NaN  Bibile, Monaragala   2019-01-01  2019-01-02\n",
       "1      0.000019  Bibile, Monaragala   2019-01-02  2019-01-03\n",
       "2      0.000028  Bibile, Monaragala   2019-01-03  2019-01-04\n",
       "3      0.000037  Bibile, Monaragala   2019-01-04  2019-01-05\n",
       "4     -0.000018  Bibile, Monaragala   2019-01-05  2019-01-06"
      ]
     },
     "execution_count": 5,
     "metadata": {},
     "output_type": "execute_result"
    }
   ],
   "source": [
    "mon_kur_jaf_df = pd.read_csv('mon_kur_jaf_output.csv',names=columns,na_values=[\"?\"])\n",
    "mon_kur_jaf_df.head()"
   ]
  },
  {
   "cell_type": "code",
   "execution_count": 6,
   "id": "6b019461-8f05-4271-9aed-e1ec8e50fe77",
   "metadata": {},
   "outputs": [
    {
     "name": "stdout",
     "output_type": "stream",
     "text": [
      "col_mat_nuw_df Rows and Columns: (5478, 4)\n",
      "kan_df Rows and Columns: (1826, 4)\n",
      "mon_kur_jaf_df Rows and Columns: (5478, 4)\n"
     ]
    }
   ],
   "source": [
    "# checking data shapes\n",
    "print(\"col_mat_nuw_df Rows and Columns:\",col_mat_nuw_df.shape)\n",
    "print(\"kan_df Rows and Columns:\",kan_df.shape)\n",
    "print(\"mon_kur_jaf_df Rows and Columns:\",mon_kur_jaf_df.shape)"
   ]
  },
  {
   "cell_type": "code",
   "execution_count": 7,
   "id": "90ecb1ee-9023-48b6-a00b-f2f85b8a7734",
   "metadata": {},
   "outputs": [
    {
     "name": "stdout",
     "output_type": "stream",
     "text": [
      "hcho-reading    float64\n",
      "location         object\n",
      "current-date     object\n",
      "next-date        object\n",
      "dtype: object \n",
      "\n",
      "hcho-reading    float64\n",
      "location         object\n",
      "current-date     object\n",
      "next-date        object\n",
      "dtype: object \n",
      "\n",
      "hcho-reading    float64\n",
      "location         object\n",
      "current-date     object\n",
      "next-date        object\n",
      "dtype: object\n"
     ]
    }
   ],
   "source": [
    "# checking datatypes\n",
    "print(col_mat_nuw_df.dtypes,\"\\n\")\n",
    "print(kan_df.dtypes,\"\\n\")\n",
    "print(mon_kur_jaf_df.dtypes)"
   ]
  },
  {
   "cell_type": "code",
   "execution_count": 8,
   "id": "abc28202-3690-460c-97c2-f194dc93d826",
   "metadata": {},
   "outputs": [],
   "source": [
    "# combine all dataframes\n",
    "cities_df = pd.concat([col_mat_nuw_df,kan_df,mon_kur_jaf_df])"
   ]
  },
  {
   "cell_type": "code",
   "execution_count": 9,
   "id": "161d96fc-d1a2-4158-b549-c12dd0a0d684",
   "metadata": {},
   "outputs": [
    {
     "data": {
      "text/html": [
       "<div>\n",
       "<style scoped>\n",
       "    .dataframe tbody tr th:only-of-type {\n",
       "        vertical-align: middle;\n",
       "    }\n",
       "\n",
       "    .dataframe tbody tr th {\n",
       "        vertical-align: top;\n",
       "    }\n",
       "\n",
       "    .dataframe thead th {\n",
       "        text-align: right;\n",
       "    }\n",
       "</style>\n",
       "<table border=\"1\" class=\"dataframe\">\n",
       "  <thead>\n",
       "    <tr style=\"text-align: right;\">\n",
       "      <th></th>\n",
       "      <th>hcho-reading</th>\n",
       "      <th>location</th>\n",
       "      <th>current-date</th>\n",
       "      <th>next-date</th>\n",
       "    </tr>\n",
       "  </thead>\n",
       "  <tbody>\n",
       "    <tr>\n",
       "      <th>0</th>\n",
       "      <td>0.000197</td>\n",
       "      <td>Colombo Proper</td>\n",
       "      <td>2019-01-01</td>\n",
       "      <td>2019-01-02</td>\n",
       "    </tr>\n",
       "    <tr>\n",
       "      <th>1</th>\n",
       "      <td>0.000263</td>\n",
       "      <td>Colombo Proper</td>\n",
       "      <td>2019-01-02</td>\n",
       "      <td>2019-01-03</td>\n",
       "    </tr>\n",
       "    <tr>\n",
       "      <th>2</th>\n",
       "      <td>0.000099</td>\n",
       "      <td>Colombo Proper</td>\n",
       "      <td>2019-01-03</td>\n",
       "      <td>2019-01-04</td>\n",
       "    </tr>\n",
       "    <tr>\n",
       "      <th>3</th>\n",
       "      <td>0.000210</td>\n",
       "      <td>Colombo Proper</td>\n",
       "      <td>2019-01-04</td>\n",
       "      <td>2019-01-05</td>\n",
       "    </tr>\n",
       "    <tr>\n",
       "      <th>4</th>\n",
       "      <td>0.000179</td>\n",
       "      <td>Colombo Proper</td>\n",
       "      <td>2019-01-05</td>\n",
       "      <td>2019-01-06</td>\n",
       "    </tr>\n",
       "  </tbody>\n",
       "</table>\n",
       "</div>"
      ],
      "text/plain": [
       "   hcho-reading        location current-date   next-date\n",
       "0      0.000197  Colombo Proper   2019-01-01  2019-01-02\n",
       "1      0.000263  Colombo Proper   2019-01-02  2019-01-03\n",
       "2      0.000099  Colombo Proper   2019-01-03  2019-01-04\n",
       "3      0.000210  Colombo Proper   2019-01-04  2019-01-05\n",
       "4      0.000179  Colombo Proper   2019-01-05  2019-01-06"
      ]
     },
     "execution_count": 9,
     "metadata": {},
     "output_type": "execute_result"
    }
   ],
   "source": [
    "cities_df.head()"
   ]
  },
  {
   "cell_type": "code",
   "execution_count": 10,
   "id": "28139d8b-e367-4bf9-b954-c93fffc496f7",
   "metadata": {},
   "outputs": [
    {
     "name": "stdout",
     "output_type": "stream",
     "text": [
      "<class 'pandas.core.frame.DataFrame'>\n",
      "Index: 12782 entries, 0 to 5477\n",
      "Data columns (total 4 columns):\n",
      " #   Column        Non-Null Count  Dtype  \n",
      "---  ------        --------------  -----  \n",
      " 0   hcho-reading  7918 non-null   float64\n",
      " 1   location      12782 non-null  object \n",
      " 2   current-date  12782 non-null  object \n",
      " 3   next-date     12782 non-null  object \n",
      "dtypes: float64(1), object(3)\n",
      "memory usage: 499.3+ KB\n"
     ]
    }
   ],
   "source": [
    "cities_df.info()"
   ]
  },
  {
   "cell_type": "code",
   "execution_count": 11,
   "id": "4a5f40c3-346f-4094-9aa2-743da63d4c77",
   "metadata": {},
   "outputs": [
    {
     "data": {
      "text/plain": [
       "hcho-reading    4864\n",
       "location           0\n",
       "current-date       0\n",
       "next-date          0\n",
       "dtype: int64"
      ]
     },
     "execution_count": 11,
     "metadata": {},
     "output_type": "execute_result"
    }
   ],
   "source": [
    "# check NaN values\n",
    "cities_df.isnull().sum()"
   ]
  },
  {
   "cell_type": "code",
   "execution_count": 12,
   "id": "544f6a24-aa62-4abb-a788-4a4bf640e4e3",
   "metadata": {},
   "outputs": [],
   "source": [
    "# nan values replace from mean of each column\n",
    "mean = cities_df['hcho-reading'].mean()\n",
    "cities_df['hcho-reading'].fillna(mean, inplace=True)"
   ]
  },
  {
   "cell_type": "code",
   "execution_count": 13,
   "id": "5ac79914-aa02-4f30-a703-d6a805e75594",
   "metadata": {},
   "outputs": [
    {
     "data": {
      "text/plain": [
       "hcho-reading    0\n",
       "location        0\n",
       "current-date    0\n",
       "next-date       0\n",
       "dtype: int64"
      ]
     },
     "execution_count": 13,
     "metadata": {},
     "output_type": "execute_result"
    }
   ],
   "source": [
    "# check NaN values again\n",
    "cities_df.isnull().sum()"
   ]
  },
  {
   "cell_type": "code",
   "execution_count": 14,
   "id": "772b3070-0c37-47c0-b7eb-3553ca387708",
   "metadata": {},
   "outputs": [
    {
     "name": "stdout",
     "output_type": "stream",
     "text": [
      "<class 'pandas.core.frame.DataFrame'>\n",
      "Index: 12782 entries, 0 to 5477\n",
      "Data columns (total 4 columns):\n",
      " #   Column        Non-Null Count  Dtype  \n",
      "---  ------        --------------  -----  \n",
      " 0   hcho-reading  12782 non-null  float64\n",
      " 1   location      12782 non-null  object \n",
      " 2   current-date  12782 non-null  object \n",
      " 3   next-date     12782 non-null  object \n",
      "dtypes: float64(1), object(3)\n",
      "memory usage: 499.3+ KB\n"
     ]
    }
   ],
   "source": [
    "cities_df.info()"
   ]
  },
  {
   "cell_type": "code",
   "execution_count": 15,
   "id": "b02438d8-83a0-41c3-8934-774ff142e41c",
   "metadata": {},
   "outputs": [
    {
     "data": {
      "text/plain": [
       "0"
      ]
     },
     "execution_count": 15,
     "metadata": {},
     "output_type": "execute_result"
    }
   ],
   "source": [
    "# check duplicate rows\n",
    "duplicate_rows=cities_df.duplicated().sum()\n",
    "duplicate_rows"
   ]
  },
  {
   "cell_type": "code",
   "execution_count": 16,
   "id": "f3bf6fd5-f2e6-40d5-8063-2c4233ceb333",
   "metadata": {},
   "outputs": [
    {
     "name": "stdout",
     "output_type": "stream",
     "text": [
      "Min: -0.0003524730243572\n",
      "Max: 0.0008997101837438\n"
     ]
    }
   ],
   "source": [
    "# check min value\n",
    "min=cities_df['hcho-reading'].min()\n",
    "print(\"Min:\",min)\n",
    "\n",
    "max=cities_df['hcho-reading'].max()\n",
    "# check max value\n",
    "print(\"Max:\",max)"
   ]
  },
  {
   "cell_type": "code",
   "execution_count": 17,
   "id": "f258efd2-7815-46fb-b41b-a32a1aaf29c4",
   "metadata": {},
   "outputs": [
    {
     "data": {
      "text/plain": [
       "563"
      ]
     },
     "execution_count": 17,
     "metadata": {},
     "output_type": "execute_result"
    }
   ],
   "source": [
    "# check number of negative values\n",
    "negative_values=(cities_df['hcho-reading'] < 0).sum()\n",
    "negative_values"
   ]
  },
  {
   "cell_type": "code",
   "execution_count": 18,
   "id": "37d725e9-a99c-4bb9-b796-75cb32c3b367",
   "metadata": {},
   "outputs": [
    {
     "name": "stdout",
     "output_type": "stream",
     "text": [
      "Negative hcho-reading values converted into NaN values\n"
     ]
    }
   ],
   "source": [
    "# covert negative values to NaN values\n",
    "cities_df.loc[cities_df['hcho-reading'] < 0, 'hcho-reading'] = pd.NA\n",
    "print(\"Negative hcho-reading values converted into NaN values\")"
   ]
  },
  {
   "cell_type": "code",
   "execution_count": 19,
   "id": "2c46da8d-4555-4b57-a6c4-4850d0663d87",
   "metadata": {},
   "outputs": [
    {
     "data": {
      "text/plain": [
       "hcho-reading    563\n",
       "location          0\n",
       "current-date      0\n",
       "next-date         0\n",
       "dtype: int64"
      ]
     },
     "execution_count": 19,
     "metadata": {},
     "output_type": "execute_result"
    }
   ],
   "source": [
    "# check NaN values\n",
    "cities_df.isnull().sum()"
   ]
  },
  {
   "cell_type": "code",
   "execution_count": 20,
   "id": "6a15c397-636e-4664-ad68-8f0a41d4f4c7",
   "metadata": {},
   "outputs": [],
   "source": [
    "# NaN values replace from mean of each column\n",
    "mean = cities_df['hcho-reading'].mean()\n",
    "cities_df['hcho-reading'].fillna(mean, inplace=True)"
   ]
  },
  {
   "cell_type": "code",
   "execution_count": 21,
   "id": "9bd47d07-7e2d-4ae7-8f8f-e9ed32e16ff9",
   "metadata": {},
   "outputs": [
    {
     "data": {
      "text/plain": [
       "hcho-reading    0\n",
       "location        0\n",
       "current-date    0\n",
       "next-date       0\n",
       "dtype: int64"
      ]
     },
     "execution_count": 21,
     "metadata": {},
     "output_type": "execute_result"
    }
   ],
   "source": [
    "# check NaN values again\n",
    "cities_df.isnull().sum()"
   ]
  },
  {
   "cell_type": "code",
   "execution_count": 22,
   "id": "ebde3970-c7c4-4fe0-9ae0-437b03462009",
   "metadata": {},
   "outputs": [
    {
     "name": "stdout",
     "output_type": "stream",
     "text": [
      "hcho-reading\n",
      "[1.96983440e-04 2.62552217e-04 9.85211890e-05 ... 1.26723537e-04\n",
      " 1.16658954e-04 6.54085299e-05]\n",
      "\n",
      "\n",
      "location\n",
      "['Colombo Proper' 'Deniyaya, Matara' 'Nuwara Eliya Proper' 'Kandy Proper'\n",
      " 'Bibile, Monaragala' 'Kurunegala Proper' 'Jaffna Proper']\n",
      "\n",
      "\n",
      "current-date\n",
      "['2019-01-01' '2019-01-02' '2019-01-03' ... '2023-12-29' '2023-12-30'\n",
      " '2023-12-31']\n",
      "\n",
      "\n",
      "next-date\n",
      "['2019-01-02' '2019-01-03' '2019-01-04' ... '2023-12-30' '2023-12-31'\n",
      " '2024-01-01']\n",
      "\n",
      "\n"
     ]
    }
   ],
   "source": [
    "# 'Colombo Proper', 'Deniyaya, Matara', 'Nuwara Eliya Proper’\n",
    "# 'Bibile, Monaragala', 'Kurunegala Proper', 'Jaffna Proper'\n",
    "# ‘Kandy Proper'\n",
    "\n",
    "\n",
    "\n",
    "# check unique values in each column\n",
    "for column in cities_df:\n",
    "    print(column)\n",
    "    print(cities_df[column].unique())\n",
    "    print('\\n')"
   ]
  },
  {
   "cell_type": "code",
   "execution_count": 23,
   "id": "fc3021a7-0ae7-4816-99ba-02f209285fc3",
   "metadata": {},
   "outputs": [
    {
     "name": "stdout",
     "output_type": "stream",
     "text": [
      "                         mean    median       std\n",
      "location                                         \n",
      "Bibile, Monaragala   0.000132  0.000119  0.000062\n",
      "Colombo Proper       0.000153  0.000119  0.000080\n",
      "Deniyaya, Matara     0.000115  0.000119  0.000060\n",
      "Jaffna Proper        0.000117  0.000119  0.000063\n",
      "Kandy Proper         0.000122  0.000119  0.000055\n",
      "Kurunegala Proper    0.000135  0.000119  0.000064\n",
      "Nuwara Eliya Proper  0.000115  0.000119  0.000043\n"
     ]
    }
   ],
   "source": [
    "# 'mean', 'median', 'std' for each city\n",
    "each_city_stats = cities_df.groupby('location')['hcho-reading'].agg(['mean', 'median', 'std'])\n",
    "print(each_city_stats)"
   ]
  },
  {
   "cell_type": "code",
   "execution_count": 24,
   "id": "58a34137-a4be-4613-b15e-258198b2ad67",
   "metadata": {},
   "outputs": [
    {
     "name": "stdout",
     "output_type": "stream",
     "text": [
      "mean      0.000127\n",
      "median    0.000119\n",
      "std       0.000063\n",
      "Name: hcho-reading, dtype: float64\n"
     ]
    }
   ],
   "source": [
    "# 'mean', 'median', 'std' for whole dataset\n",
    "whole_stats = cities_df['hcho-reading'].agg(['mean', 'median', 'std'])\n",
    "print(whole_stats)"
   ]
  },
  {
   "cell_type": "code",
   "execution_count": 25,
   "id": "5be60a43-6b22-4722-934b-4cf50323f85d",
   "metadata": {},
   "outputs": [
    {
     "data": {
      "image/png": "[encoded data removed]",
      "text/plain": [
       "<Figure size 1200x600 with 1 Axes>"
      ]
     },
     "metadata": {},
     "output_type": "display_data"
    }
   ],
   "source": [
    "# visualizations - boxplots\n",
    "plt.figure(figsize=(12, 6))\n",
    "sns.boxplot(x='location', y='hcho-reading', data=cities_df)\n",
    "plt.title('Boxplot of HCHO-Reading Levels by Location')\n",
    "plt.xlabel('Location')\n",
    "plt.ylabel('HCHO-Reading')\n",
    "plt.xticks(rotation=45)\n",
    "plt.show()"
   ]
  },
  {
   "cell_type": "code",
   "execution_count": 26,
   "id": "8be03dd9-3a61-45e3-95c5-d35520460108",
   "metadata": {},
   "outputs": [
    {
     "data": {
      "image/png": "[encoded data removed]",
      "text/plain": [
       "<Figure size 1000x600 with 1 Axes>"
      ]
     },
     "metadata": {},
     "output_type": "display_data"
    }
   ],
   "source": [
    "# visualizations - histograms\n",
    "plt.figure(figsize=(10, 6))\n",
    "sns.histplot(cities_df['hcho-reading'], bins=20)\n",
    "plt.title('Histogram of HCHO-Reading Levels')\n",
    "plt.xlabel('HCHO-Reading Level')\n",
    "plt.ylabel('Frequency')\n",
    "plt.show()"
   ]
  },
  {
   "cell_type": "code",
   "execution_count": 27,
   "id": "4133b62e-7ab8-419b-b3f6-c31501149ed5",
   "metadata": {},
   "outputs": [
    {
     "data": {
      "text/plain": [
       "location\n",
       "Colombo Proper         1826\n",
       "Deniyaya, Matara       1826\n",
       "Nuwara Eliya Proper    1826\n",
       "Kandy Proper           1826\n",
       "Bibile, Monaragala     1826\n",
       "Kurunegala Proper      1826\n",
       "Jaffna Proper          1826\n",
       "Name: count, dtype: int64"
      ]
     },
     "execution_count": 27,
     "metadata": {},
     "output_type": "execute_result"
    }
   ],
   "source": [
    "cities_df['location'].value_counts()"
   ]
  },
  {
   "cell_type": "code",
   "execution_count": 28,
   "id": "3967496d-3696-4f70-afe6-81e62dbbd08f",
   "metadata": {},
   "outputs": [
    {
     "name": "stdout",
     "output_type": "stream",
     "text": [
      "   hcho-reading        location current-date   next-date\n",
      "0      0.000197  Colombo Proper   2019-01-01  2019-01-02\n",
      "      hcho-reading       location current-date   next-date\n",
      "5477      0.000065  Jaffna Proper   2023-12-31  2024-01-01\n"
     ]
    }
   ],
   "source": [
    "print(cities_df.head(1))\n",
    "print(cities_df.tail(1))"
   ]
  },
  {
   "cell_type": "code",
   "execution_count": 29,
   "id": "b75ce04f-e87b-4749-bfca-3ea423d2af4d",
   "metadata": {},
   "outputs": [
    {
     "data": {
      "text/html": [
       "<div>\n",
       "<style scoped>\n",
       "    .dataframe tbody tr th:only-of-type {\n",
       "        vertical-align: middle;\n",
       "    }\n",
       "\n",
       "    .dataframe tbody tr th {\n",
       "        vertical-align: top;\n",
       "    }\n",
       "\n",
       "    .dataframe thead th {\n",
       "        text-align: right;\n",
       "    }\n",
       "</style>\n",
       "<table border=\"1\" class=\"dataframe\">\n",
       "  <thead>\n",
       "    <tr style=\"text-align: right;\">\n",
       "      <th></th>\n",
       "      <th>STATION</th>\n",
       "      <th>NAME</th>\n",
       "      <th>LATITUDE</th>\n",
       "      <th>LONGITUDE</th>\n",
       "      <th>ELEVATION</th>\n",
       "      <th>DATE</th>\n",
       "      <th>PRCP</th>\n",
       "      <th>TAVG</th>\n",
       "      <th>TMAX</th>\n",
       "      <th>TMIN</th>\n",
       "    </tr>\n",
       "  </thead>\n",
       "  <tbody>\n",
       "    <tr>\n",
       "      <th>0</th>\n",
       "      <td>CEM00043441</td>\n",
       "      <td>KURUNEGALA, CE</td>\n",
       "      <td>7.467</td>\n",
       "      <td>80.367</td>\n",
       "      <td>116.0</td>\n",
       "      <td>2019-01-02</td>\n",
       "      <td>0.0</td>\n",
       "      <td>78</td>\n",
       "      <td>NaN</td>\n",
       "      <td>72.0</td>\n",
       "    </tr>\n",
       "    <tr>\n",
       "      <th>1</th>\n",
       "      <td>CEM00043441</td>\n",
       "      <td>KURUNEGALA, CE</td>\n",
       "      <td>7.467</td>\n",
       "      <td>80.367</td>\n",
       "      <td>116.0</td>\n",
       "      <td>2019-01-03</td>\n",
       "      <td>0.0</td>\n",
       "      <td>81</td>\n",
       "      <td>87.0</td>\n",
       "      <td>71.0</td>\n",
       "    </tr>\n",
       "    <tr>\n",
       "      <th>2</th>\n",
       "      <td>CEM00043441</td>\n",
       "      <td>KURUNEGALA, CE</td>\n",
       "      <td>7.467</td>\n",
       "      <td>80.367</td>\n",
       "      <td>116.0</td>\n",
       "      <td>2019-01-04</td>\n",
       "      <td>0.0</td>\n",
       "      <td>83</td>\n",
       "      <td>88.0</td>\n",
       "      <td>69.0</td>\n",
       "    </tr>\n",
       "    <tr>\n",
       "      <th>3</th>\n",
       "      <td>CEM00043441</td>\n",
       "      <td>KURUNEGALA, CE</td>\n",
       "      <td>7.467</td>\n",
       "      <td>80.367</td>\n",
       "      <td>116.0</td>\n",
       "      <td>2019-01-05</td>\n",
       "      <td>0.0</td>\n",
       "      <td>84</td>\n",
       "      <td>90.0</td>\n",
       "      <td>65.0</td>\n",
       "    </tr>\n",
       "    <tr>\n",
       "      <th>4</th>\n",
       "      <td>CEM00043441</td>\n",
       "      <td>KURUNEGALA, CE</td>\n",
       "      <td>7.467</td>\n",
       "      <td>80.367</td>\n",
       "      <td>116.0</td>\n",
       "      <td>2019-01-06</td>\n",
       "      <td>0.0</td>\n",
       "      <td>82</td>\n",
       "      <td>88.0</td>\n",
       "      <td>71.0</td>\n",
       "    </tr>\n",
       "  </tbody>\n",
       "</table>\n",
       "</div>"
      ],
      "text/plain": [
       "       STATION            NAME  LATITUDE  LONGITUDE  ELEVATION        DATE  \\\n",
       "0  CEM00043441  KURUNEGALA, CE     7.467     80.367      116.0  2019-01-02   \n",
       "1  CEM00043441  KURUNEGALA, CE     7.467     80.367      116.0  2019-01-03   \n",
       "2  CEM00043441  KURUNEGALA, CE     7.467     80.367      116.0  2019-01-04   \n",
       "3  CEM00043441  KURUNEGALA, CE     7.467     80.367      116.0  2019-01-05   \n",
       "4  CEM00043441  KURUNEGALA, CE     7.467     80.367      116.0  2019-01-06   \n",
       "\n",
       "   PRCP  TAVG  TMAX  TMIN  \n",
       "0   0.0    78   NaN  72.0  \n",
       "1   0.0    81  87.0  71.0  \n",
       "2   0.0    83  88.0  69.0  \n",
       "3   0.0    84  90.0  65.0  \n",
       "4   0.0    82  88.0  71.0  "
      ]
     },
     "execution_count": 29,
     "metadata": {},
     "output_type": "execute_result"
    }
   ],
   "source": [
    "ext_fact_df1 = pd.read_csv('ext_factors.csv',na_values=[\"?\"])\n",
    "ext_fact_df1.head()"
   ]
  },
  {
   "cell_type": "code",
   "execution_count": 30,
   "id": "a8085b56-7e51-48e4-9acc-944f5679bff3",
   "metadata": {},
   "outputs": [
    {
     "name": "stdout",
     "output_type": "stream",
     "text": [
      "<class 'pandas.core.frame.DataFrame'>\n",
      "RangeIndex: 8745 entries, 0 to 8744\n",
      "Data columns (total 10 columns):\n",
      " #   Column     Non-Null Count  Dtype  \n",
      "---  ------     --------------  -----  \n",
      " 0   STATION    8745 non-null   object \n",
      " 1   NAME       8745 non-null   object \n",
      " 2   LATITUDE   8745 non-null   float64\n",
      " 3   LONGITUDE  8745 non-null   float64\n",
      " 4   ELEVATION  8745 non-null   float64\n",
      " 5   DATE       8745 non-null   object \n",
      " 6   PRCP       8708 non-null   float64\n",
      " 7   TAVG       8745 non-null   int64  \n",
      " 8   TMAX       7786 non-null   float64\n",
      " 9   TMIN       7099 non-null   float64\n",
      "dtypes: float64(6), int64(1), object(3)\n",
      "memory usage: 683.3+ KB\n"
     ]
    }
   ],
   "source": [
    "ext_fact_df1.info()"
   ]
  },
  {
   "cell_type": "code",
   "execution_count": 31,
   "id": "bcdacd35-0b68-4e96-80a4-303d3e7cea9f",
   "metadata": {},
   "outputs": [
    {
     "data": {
      "text/html": [
       "<div>\n",
       "<style scoped>\n",
       "    .dataframe tbody tr th:only-of-type {\n",
       "        vertical-align: middle;\n",
       "    }\n",
       "\n",
       "    .dataframe tbody tr th {\n",
       "        vertical-align: top;\n",
       "    }\n",
       "\n",
       "    .dataframe thead th {\n",
       "        text-align: right;\n",
       "    }\n",
       "</style>\n",
       "<table border=\"1\" class=\"dataframe\">\n",
       "  <thead>\n",
       "    <tr style=\"text-align: right;\">\n",
       "      <th></th>\n",
       "      <th>NAME</th>\n",
       "      <th>LATITUDE</th>\n",
       "      <th>LONGITUDE</th>\n",
       "      <th>ELEVATION</th>\n",
       "      <th>DATE</th>\n",
       "      <th>PRCP</th>\n",
       "      <th>TAVG</th>\n",
       "      <th>TMAX</th>\n",
       "      <th>TMIN</th>\n",
       "    </tr>\n",
       "  </thead>\n",
       "  <tbody>\n",
       "    <tr>\n",
       "      <th>0</th>\n",
       "      <td>KURUNEGALA, CE</td>\n",
       "      <td>7.467</td>\n",
       "      <td>80.367</td>\n",
       "      <td>116.0</td>\n",
       "      <td>2019-01-02</td>\n",
       "      <td>0.0</td>\n",
       "      <td>78</td>\n",
       "      <td>NaN</td>\n",
       "      <td>72.0</td>\n",
       "    </tr>\n",
       "    <tr>\n",
       "      <th>1</th>\n",
       "      <td>KURUNEGALA, CE</td>\n",
       "      <td>7.467</td>\n",
       "      <td>80.367</td>\n",
       "      <td>116.0</td>\n",
       "      <td>2019-01-03</td>\n",
       "      <td>0.0</td>\n",
       "      <td>81</td>\n",
       "      <td>87.0</td>\n",
       "      <td>71.0</td>\n",
       "    </tr>\n",
       "    <tr>\n",
       "      <th>2</th>\n",
       "      <td>KURUNEGALA, CE</td>\n",
       "      <td>7.467</td>\n",
       "      <td>80.367</td>\n",
       "      <td>116.0</td>\n",
       "      <td>2019-01-04</td>\n",
       "      <td>0.0</td>\n",
       "      <td>83</td>\n",
       "      <td>88.0</td>\n",
       "      <td>69.0</td>\n",
       "    </tr>\n",
       "    <tr>\n",
       "      <th>3</th>\n",
       "      <td>KURUNEGALA, CE</td>\n",
       "      <td>7.467</td>\n",
       "      <td>80.367</td>\n",
       "      <td>116.0</td>\n",
       "      <td>2019-01-05</td>\n",
       "      <td>0.0</td>\n",
       "      <td>84</td>\n",
       "      <td>90.0</td>\n",
       "      <td>65.0</td>\n",
       "    </tr>\n",
       "    <tr>\n",
       "      <th>4</th>\n",
       "      <td>KURUNEGALA, CE</td>\n",
       "      <td>7.467</td>\n",
       "      <td>80.367</td>\n",
       "      <td>116.0</td>\n",
       "      <td>2019-01-06</td>\n",
       "      <td>0.0</td>\n",
       "      <td>82</td>\n",
       "      <td>88.0</td>\n",
       "      <td>71.0</td>\n",
       "    </tr>\n",
       "  </tbody>\n",
       "</table>\n",
       "</div>"
      ],
      "text/plain": [
       "             NAME  LATITUDE  LONGITUDE  ELEVATION        DATE  PRCP  TAVG  \\\n",
       "0  KURUNEGALA, CE     7.467     80.367      116.0  2019-01-02   0.0    78   \n",
       "1  KURUNEGALA, CE     7.467     80.367      116.0  2019-01-03   0.0    81   \n",
       "2  KURUNEGALA, CE     7.467     80.367      116.0  2019-01-04   0.0    83   \n",
       "3  KURUNEGALA, CE     7.467     80.367      116.0  2019-01-05   0.0    84   \n",
       "4  KURUNEGALA, CE     7.467     80.367      116.0  2019-01-06   0.0    82   \n",
       "\n",
       "   TMAX  TMIN  \n",
       "0   NaN  72.0  \n",
       "1  87.0  71.0  \n",
       "2  88.0  69.0  \n",
       "3  90.0  65.0  \n",
       "4  88.0  71.0  "
      ]
     },
     "execution_count": 31,
     "metadata": {},
     "output_type": "execute_result"
    }
   ],
   "source": [
    "# remove STATION column\n",
    "ext_fact_df1 = ext_fact_df1.drop(columns=['STATION'],axis=1)\n",
    "ext_fact_df1.head()"
   ]
  },
  {
   "cell_type": "code",
   "execution_count": 32,
   "id": "1df2ade7-e667-4f8c-8b13-feb90c4dc9c6",
   "metadata": {},
   "outputs": [
    {
     "data": {
      "text/html": [
       "<div>\n",
       "<style scoped>\n",
       "    .dataframe tbody tr th:only-of-type {\n",
       "        vertical-align: middle;\n",
       "    }\n",
       "\n",
       "    .dataframe tbody tr th {\n",
       "        vertical-align: top;\n",
       "    }\n",
       "\n",
       "    .dataframe thead th {\n",
       "        text-align: right;\n",
       "    }\n",
       "</style>\n",
       "<table border=\"1\" class=\"dataframe\">\n",
       "  <thead>\n",
       "    <tr style=\"text-align: right;\">\n",
       "      <th></th>\n",
       "      <th>location</th>\n",
       "      <th>latitude</th>\n",
       "      <th>longitude</th>\n",
       "      <th>elevation</th>\n",
       "      <th>current-date</th>\n",
       "      <th>PRCP</th>\n",
       "      <th>TAVG</th>\n",
       "      <th>TMAX</th>\n",
       "      <th>TMIN</th>\n",
       "    </tr>\n",
       "  </thead>\n",
       "  <tbody>\n",
       "    <tr>\n",
       "      <th>0</th>\n",
       "      <td>KURUNEGALA, CE</td>\n",
       "      <td>7.467</td>\n",
       "      <td>80.367</td>\n",
       "      <td>116.0</td>\n",
       "      <td>2019-01-02</td>\n",
       "      <td>0.0</td>\n",
       "      <td>78</td>\n",
       "      <td>NaN</td>\n",
       "      <td>72.0</td>\n",
       "    </tr>\n",
       "    <tr>\n",
       "      <th>1</th>\n",
       "      <td>KURUNEGALA, CE</td>\n",
       "      <td>7.467</td>\n",
       "      <td>80.367</td>\n",
       "      <td>116.0</td>\n",
       "      <td>2019-01-03</td>\n",
       "      <td>0.0</td>\n",
       "      <td>81</td>\n",
       "      <td>87.0</td>\n",
       "      <td>71.0</td>\n",
       "    </tr>\n",
       "    <tr>\n",
       "      <th>2</th>\n",
       "      <td>KURUNEGALA, CE</td>\n",
       "      <td>7.467</td>\n",
       "      <td>80.367</td>\n",
       "      <td>116.0</td>\n",
       "      <td>2019-01-04</td>\n",
       "      <td>0.0</td>\n",
       "      <td>83</td>\n",
       "      <td>88.0</td>\n",
       "      <td>69.0</td>\n",
       "    </tr>\n",
       "    <tr>\n",
       "      <th>3</th>\n",
       "      <td>KURUNEGALA, CE</td>\n",
       "      <td>7.467</td>\n",
       "      <td>80.367</td>\n",
       "      <td>116.0</td>\n",
       "      <td>2019-01-05</td>\n",
       "      <td>0.0</td>\n",
       "      <td>84</td>\n",
       "      <td>90.0</td>\n",
       "      <td>65.0</td>\n",
       "    </tr>\n",
       "    <tr>\n",
       "      <th>4</th>\n",
       "      <td>KURUNEGALA, CE</td>\n",
       "      <td>7.467</td>\n",
       "      <td>80.367</td>\n",
       "      <td>116.0</td>\n",
       "      <td>2019-01-06</td>\n",
       "      <td>0.0</td>\n",
       "      <td>82</td>\n",
       "      <td>88.0</td>\n",
       "      <td>71.0</td>\n",
       "    </tr>\n",
       "  </tbody>\n",
       "</table>\n",
       "</div>"
      ],
      "text/plain": [
       "         location  latitude  longitude  elevation current-date  PRCP  TAVG  \\\n",
       "0  KURUNEGALA, CE     7.467     80.367      116.0   2019-01-02   0.0    78   \n",
       "1  KURUNEGALA, CE     7.467     80.367      116.0   2019-01-03   0.0    81   \n",
       "2  KURUNEGALA, CE     7.467     80.367      116.0   2019-01-04   0.0    83   \n",
       "3  KURUNEGALA, CE     7.467     80.367      116.0   2019-01-05   0.0    84   \n",
       "4  KURUNEGALA, CE     7.467     80.367      116.0   2019-01-06   0.0    82   \n",
       "\n",
       "   TMAX  TMIN  \n",
       "0   NaN  72.0  \n",
       "1  87.0  71.0  \n",
       "2  88.0  69.0  \n",
       "3  90.0  65.0  \n",
       "4  88.0  71.0  "
      ]
     },
     "execution_count": 32,
     "metadata": {},
     "output_type": "execute_result"
    }
   ],
   "source": [
    "# rename columns\n",
    "ext_fact_df1.rename(columns={\n",
    "    'NAME': 'location',\n",
    "    'LATITUDE': 'latitude',\n",
    "    'LONGITUDE': 'longitude',\n",
    "    'ELEVATION': 'elevation',\n",
    "    'DATE': 'current-date'}, inplace=True)\n",
    "ext_fact_df1.head()"
   ]
  },
  {
   "cell_type": "code",
   "execution_count": 33,
   "id": "8202781a-c6d5-4471-bfd2-e2800b9a3298",
   "metadata": {},
   "outputs": [
    {
     "data": {
      "text/plain": [
       "location\n",
       "COLOMBO, CE         1765\n",
       "NUWARA ELIYA, CE    1761\n",
       "CHINA BAY, CE       1760\n",
       "PUTTALAM, CE        1755\n",
       "KURUNEGALA, CE      1704\n",
       "Name: count, dtype: int64"
      ]
     },
     "execution_count": 33,
     "metadata": {},
     "output_type": "execute_result"
    }
   ],
   "source": [
    "# check locations and data count\n",
    "ext_fact_df1['location'].value_counts()"
   ]
  },
  {
   "cell_type": "code",
   "execution_count": 34,
   "id": "428f37eb-8992-4777-8d2c-524f9e859c32",
   "metadata": {},
   "outputs": [
    {
     "name": "stdout",
     "output_type": "stream",
     "text": [
      "Successfully removed 'CHINA BAY, CE' and 'PUTTALAM, CE' data\n"
     ]
    }
   ],
   "source": [
    "# remove 'CHINA BAY, CE' and 'PUTTALAM, CE'\n",
    "ext_fact_df1 = ext_fact_df1[(ext_fact_df1['location'] != 'CHINA BAY, CE') & (ext_fact_df1['location'] != 'PUTTALAM, CE')].reset_index(drop=True)\n",
    "print(\"Successfully removed 'CHINA BAY, CE' and 'PUTTALAM, CE' data\")"
   ]
  },
  {
   "cell_type": "code",
   "execution_count": 35,
   "id": "a64b198b-1059-4846-ba71-e9d74fb090e7",
   "metadata": {},
   "outputs": [
    {
     "data": {
      "text/plain": [
       "location\n",
       "COLOMBO, CE         1765\n",
       "NUWARA ELIYA, CE    1761\n",
       "KURUNEGALA, CE      1704\n",
       "Name: count, dtype: int64"
      ]
     },
     "execution_count": 35,
     "metadata": {},
     "output_type": "execute_result"
    }
   ],
   "source": [
    "# check locations and data count again\n",
    "ext_fact_df1['location'].value_counts()"
   ]
  },
  {
   "cell_type": "code",
   "execution_count": 36,
   "id": "e1c6a053-a4ed-48c6-98b4-8593c34f89ea",
   "metadata": {},
   "outputs": [
    {
     "data": {
      "text/html": [
       "<div>\n",
       "<style scoped>\n",
       "    .dataframe tbody tr th:only-of-type {\n",
       "        vertical-align: middle;\n",
       "    }\n",
       "\n",
       "    .dataframe tbody tr th {\n",
       "        vertical-align: top;\n",
       "    }\n",
       "\n",
       "    .dataframe thead th {\n",
       "        text-align: right;\n",
       "    }\n",
       "</style>\n",
       "<table border=\"1\" class=\"dataframe\">\n",
       "  <thead>\n",
       "    <tr style=\"text-align: right;\">\n",
       "      <th></th>\n",
       "      <th>location</th>\n",
       "      <th>latitude</th>\n",
       "      <th>longitude</th>\n",
       "      <th>elevation</th>\n",
       "      <th>current-date</th>\n",
       "      <th>PRCP</th>\n",
       "      <th>TAVG</th>\n",
       "      <th>TMAX</th>\n",
       "      <th>TMIN</th>\n",
       "    </tr>\n",
       "  </thead>\n",
       "  <tbody>\n",
       "    <tr>\n",
       "      <th>0</th>\n",
       "      <td>KURUNEGALA, CE</td>\n",
       "      <td>7.467</td>\n",
       "      <td>80.367</td>\n",
       "      <td>116.0</td>\n",
       "      <td>2019-01-02</td>\n",
       "      <td>0.0</td>\n",
       "      <td>78</td>\n",
       "      <td>NaN</td>\n",
       "      <td>72.0</td>\n",
       "    </tr>\n",
       "    <tr>\n",
       "      <th>1</th>\n",
       "      <td>KURUNEGALA, CE</td>\n",
       "      <td>7.467</td>\n",
       "      <td>80.367</td>\n",
       "      <td>116.0</td>\n",
       "      <td>2019-01-03</td>\n",
       "      <td>0.0</td>\n",
       "      <td>81</td>\n",
       "      <td>87.0</td>\n",
       "      <td>71.0</td>\n",
       "    </tr>\n",
       "    <tr>\n",
       "      <th>2</th>\n",
       "      <td>KURUNEGALA, CE</td>\n",
       "      <td>7.467</td>\n",
       "      <td>80.367</td>\n",
       "      <td>116.0</td>\n",
       "      <td>2019-01-04</td>\n",
       "      <td>0.0</td>\n",
       "      <td>83</td>\n",
       "      <td>88.0</td>\n",
       "      <td>69.0</td>\n",
       "    </tr>\n",
       "    <tr>\n",
       "      <th>3</th>\n",
       "      <td>KURUNEGALA, CE</td>\n",
       "      <td>7.467</td>\n",
       "      <td>80.367</td>\n",
       "      <td>116.0</td>\n",
       "      <td>2019-01-05</td>\n",
       "      <td>0.0</td>\n",
       "      <td>84</td>\n",
       "      <td>90.0</td>\n",
       "      <td>65.0</td>\n",
       "    </tr>\n",
       "    <tr>\n",
       "      <th>4</th>\n",
       "      <td>KURUNEGALA, CE</td>\n",
       "      <td>7.467</td>\n",
       "      <td>80.367</td>\n",
       "      <td>116.0</td>\n",
       "      <td>2019-01-06</td>\n",
       "      <td>0.0</td>\n",
       "      <td>82</td>\n",
       "      <td>88.0</td>\n",
       "      <td>71.0</td>\n",
       "    </tr>\n",
       "  </tbody>\n",
       "</table>\n",
       "</div>"
      ],
      "text/plain": [
       "         location  latitude  longitude  elevation current-date  PRCP  TAVG  \\\n",
       "0  KURUNEGALA, CE     7.467     80.367      116.0   2019-01-02   0.0    78   \n",
       "1  KURUNEGALA, CE     7.467     80.367      116.0   2019-01-03   0.0    81   \n",
       "2  KURUNEGALA, CE     7.467     80.367      116.0   2019-01-04   0.0    83   \n",
       "3  KURUNEGALA, CE     7.467     80.367      116.0   2019-01-05   0.0    84   \n",
       "4  KURUNEGALA, CE     7.467     80.367      116.0   2019-01-06   0.0    82   \n",
       "\n",
       "   TMAX  TMIN  \n",
       "0   NaN  72.0  \n",
       "1  87.0  71.0  \n",
       "2  88.0  69.0  \n",
       "3  90.0  65.0  \n",
       "4  88.0  71.0  "
      ]
     },
     "execution_count": 36,
     "metadata": {},
     "output_type": "execute_result"
    }
   ],
   "source": [
    "ext_fact_df1.head()"
   ]
  },
  {
   "cell_type": "code",
   "execution_count": 37,
   "id": "632762fb-62bb-4532-b10b-a65db1bc424a",
   "metadata": {},
   "outputs": [
    {
     "name": "stdout",
     "output_type": "stream",
     "text": [
      "<class 'pandas.core.frame.DataFrame'>\n",
      "RangeIndex: 5230 entries, 0 to 5229\n",
      "Data columns (total 9 columns):\n",
      " #   Column        Non-Null Count  Dtype  \n",
      "---  ------        --------------  -----  \n",
      " 0   location      5230 non-null   object \n",
      " 1   latitude      5230 non-null   float64\n",
      " 2   longitude     5230 non-null   float64\n",
      " 3   elevation     5230 non-null   float64\n",
      " 4   current-date  5230 non-null   object \n",
      " 5   PRCP          5213 non-null   float64\n",
      " 6   TAVG          5230 non-null   int64  \n",
      " 7   TMAX          4647 non-null   float64\n",
      " 8   TMIN          4304 non-null   float64\n",
      "dtypes: float64(6), int64(1), object(2)\n",
      "memory usage: 367.9+ KB\n"
     ]
    }
   ],
   "source": [
    "ext_fact_df1.info()"
   ]
  },
  {
   "cell_type": "code",
   "execution_count": 38,
   "id": "d479ee5e-02df-407d-a724-69e98f86504b",
   "metadata": {},
   "outputs": [
    {
     "data": {
      "text/plain": [
       "location          0\n",
       "latitude          0\n",
       "longitude         0\n",
       "elevation         0\n",
       "current-date      0\n",
       "PRCP             17\n",
       "TAVG              0\n",
       "TMAX            583\n",
       "TMIN            926\n",
       "dtype: int64"
      ]
     },
     "execution_count": 38,
     "metadata": {},
     "output_type": "execute_result"
    }
   ],
   "source": [
    "# check NaN values\n",
    "ext_fact_df1.isnull().sum()"
   ]
  },
  {
   "cell_type": "code",
   "execution_count": 39,
   "id": "0bdf7d97-f41b-4f4a-b594-eab8b3ac8ea7",
   "metadata": {},
   "outputs": [],
   "source": [
    "# NaN values replace from mean of each column\n",
    "mean = ext_fact_df1['PRCP'].mean()\n",
    "ext_fact_df1['PRCP'].fillna(mean, inplace=True)\n",
    "\n",
    "mean = ext_fact_df1['TMAX'].mean()\n",
    "ext_fact_df1['TMAX'].fillna(mean, inplace=True)\n",
    "\n",
    "mean = ext_fact_df1['TMIN'].mean()\n",
    "ext_fact_df1['TMIN'].fillna(mean, inplace=True)"
   ]
  },
  {
   "cell_type": "code",
   "execution_count": 40,
   "id": "2834506e-68d4-4558-82f7-bbf13fcd7148",
   "metadata": {},
   "outputs": [
    {
     "data": {
      "text/plain": [
       "location        0\n",
       "latitude        0\n",
       "longitude       0\n",
       "elevation       0\n",
       "current-date    0\n",
       "PRCP            0\n",
       "TAVG            0\n",
       "TMAX            0\n",
       "TMIN            0\n",
       "dtype: int64"
      ]
     },
     "execution_count": 40,
     "metadata": {},
     "output_type": "execute_result"
    }
   ],
   "source": [
    "# check NaN values again\n",
    "ext_fact_df1.isnull().sum()"
   ]
  },
  {
   "cell_type": "code",
   "execution_count": 41,
   "id": "4ad1671c-492a-41d1-b3ae-35fc2986efe9",
   "metadata": {},
   "outputs": [],
   "source": [
    "# replace values in 'location' column\n",
    "ext_fact_df1['location'] = ext_fact_df1['location'].replace({'COLOMBO, CE': 'Colombo Proper',\n",
    "                                                           'NUWARA ELIYA, CE': 'Nuwara Eliya Proper',\n",
    "                                                           'KURUNEGALA, CE': 'Kurunegala Proper'})"
   ]
  },
  {
   "cell_type": "code",
   "execution_count": 42,
   "id": "60a3f374-4edd-4b45-a0eb-11a16dd523db",
   "metadata": {},
   "outputs": [
    {
     "data": {
      "text/plain": [
       "location\n",
       "Colombo Proper         1765\n",
       "Nuwara Eliya Proper    1761\n",
       "Kurunegala Proper      1704\n",
       "Name: count, dtype: int64"
      ]
     },
     "execution_count": 42,
     "metadata": {},
     "output_type": "execute_result"
    }
   ],
   "source": [
    "# check location name changes\n",
    "ext_fact_df1['location'].value_counts()"
   ]
  },
  {
   "cell_type": "code",
   "execution_count": 43,
   "id": "35e28aff-59ba-4526-a8d8-ae9d8dadb472",
   "metadata": {},
   "outputs": [
    {
     "data": {
      "text/html": [
       "<div>\n",
       "<style scoped>\n",
       "    .dataframe tbody tr th:only-of-type {\n",
       "        vertical-align: middle;\n",
       "    }\n",
       "\n",
       "    .dataframe tbody tr th {\n",
       "        vertical-align: top;\n",
       "    }\n",
       "\n",
       "    .dataframe thead th {\n",
       "        text-align: right;\n",
       "    }\n",
       "</style>\n",
       "<table border=\"1\" class=\"dataframe\">\n",
       "  <thead>\n",
       "    <tr style=\"text-align: right;\">\n",
       "      <th></th>\n",
       "      <th>city</th>\n",
       "      <th>latitude</th>\n",
       "      <th>longitude</th>\n",
       "      <th>elevation</th>\n",
       "      <th>time</th>\n",
       "      <th>precipitation_sum</th>\n",
       "      <th>temperature_2m_mean</th>\n",
       "      <th>temperature_2m_max</th>\n",
       "      <th>temperature_2m_min</th>\n",
       "    </tr>\n",
       "  </thead>\n",
       "  <tbody>\n",
       "    <tr>\n",
       "      <th>0</th>\n",
       "      <td>Colombo</td>\n",
       "      <td>7.0</td>\n",
       "      <td>79.899994</td>\n",
       "      <td>16</td>\n",
       "      <td>2010-01-01</td>\n",
       "      <td>0.0</td>\n",
       "      <td>26.1</td>\n",
       "      <td>30.0</td>\n",
       "      <td>22.7</td>\n",
       "    </tr>\n",
       "    <tr>\n",
       "      <th>1</th>\n",
       "      <td>Colombo</td>\n",
       "      <td>7.0</td>\n",
       "      <td>79.899994</td>\n",
       "      <td>16</td>\n",
       "      <td>2010-01-02</td>\n",
       "      <td>0.1</td>\n",
       "      <td>26.2</td>\n",
       "      <td>29.9</td>\n",
       "      <td>23.5</td>\n",
       "    </tr>\n",
       "    <tr>\n",
       "      <th>2</th>\n",
       "      <td>Colombo</td>\n",
       "      <td>7.0</td>\n",
       "      <td>79.899994</td>\n",
       "      <td>16</td>\n",
       "      <td>2010-01-03</td>\n",
       "      <td>0.6</td>\n",
       "      <td>26.0</td>\n",
       "      <td>29.5</td>\n",
       "      <td>23.2</td>\n",
       "    </tr>\n",
       "    <tr>\n",
       "      <th>3</th>\n",
       "      <td>Colombo</td>\n",
       "      <td>7.0</td>\n",
       "      <td>79.899994</td>\n",
       "      <td>16</td>\n",
       "      <td>2010-01-04</td>\n",
       "      <td>0.0</td>\n",
       "      <td>25.3</td>\n",
       "      <td>28.9</td>\n",
       "      <td>21.9</td>\n",
       "    </tr>\n",
       "    <tr>\n",
       "      <th>4</th>\n",
       "      <td>Colombo</td>\n",
       "      <td>7.0</td>\n",
       "      <td>79.899994</td>\n",
       "      <td>16</td>\n",
       "      <td>2010-01-05</td>\n",
       "      <td>0.0</td>\n",
       "      <td>24.5</td>\n",
       "      <td>28.1</td>\n",
       "      <td>21.3</td>\n",
       "    </tr>\n",
       "  </tbody>\n",
       "</table>\n",
       "</div>"
      ],
      "text/plain": [
       "      city  latitude  longitude  elevation        time  precipitation_sum  \\\n",
       "0  Colombo       7.0  79.899994         16  2010-01-01                0.0   \n",
       "1  Colombo       7.0  79.899994         16  2010-01-02                0.1   \n",
       "2  Colombo       7.0  79.899994         16  2010-01-03                0.6   \n",
       "3  Colombo       7.0  79.899994         16  2010-01-04                0.0   \n",
       "4  Colombo       7.0  79.899994         16  2010-01-05                0.0   \n",
       "\n",
       "   temperature_2m_mean  temperature_2m_max  temperature_2m_min  \n",
       "0                 26.1                30.0                22.7  \n",
       "1                 26.2                29.9                23.5  \n",
       "2                 26.0                29.5                23.2  \n",
       "3                 25.3                28.9                21.9  \n",
       "4                 24.5                28.1                21.3  "
      ]
     },
     "execution_count": 43,
     "metadata": {},
     "output_type": "execute_result"
    }
   ],
   "source": [
    "ext_fact_df2 = pd.read_csv('sl_weather_dataset.csv',na_values=[\"?\"])\n",
    "ext_fact_df2.head()"
   ]
  },
  {
   "cell_type": "code",
   "execution_count": 44,
   "id": "30429a2e-a9aa-4c7b-806b-1bef8ea3e357",
   "metadata": {},
   "outputs": [
    {
     "data": {
      "text/html": [
       "<div>\n",
       "<style scoped>\n",
       "    .dataframe tbody tr th:only-of-type {\n",
       "        vertical-align: middle;\n",
       "    }\n",
       "\n",
       "    .dataframe tbody tr th {\n",
       "        vertical-align: top;\n",
       "    }\n",
       "\n",
       "    .dataframe thead th {\n",
       "        text-align: right;\n",
       "    }\n",
       "</style>\n",
       "<table border=\"1\" class=\"dataframe\">\n",
       "  <thead>\n",
       "    <tr style=\"text-align: right;\">\n",
       "      <th></th>\n",
       "      <th>location</th>\n",
       "      <th>latitude</th>\n",
       "      <th>longitude</th>\n",
       "      <th>elevation</th>\n",
       "      <th>current-date</th>\n",
       "      <th>PRCP</th>\n",
       "      <th>TAVG</th>\n",
       "      <th>TMAX</th>\n",
       "      <th>TMIN</th>\n",
       "    </tr>\n",
       "  </thead>\n",
       "  <tbody>\n",
       "    <tr>\n",
       "      <th>0</th>\n",
       "      <td>Colombo</td>\n",
       "      <td>7.0</td>\n",
       "      <td>79.899994</td>\n",
       "      <td>16</td>\n",
       "      <td>2010-01-01</td>\n",
       "      <td>0.0</td>\n",
       "      <td>26.1</td>\n",
       "      <td>30.0</td>\n",
       "      <td>22.7</td>\n",
       "    </tr>\n",
       "    <tr>\n",
       "      <th>1</th>\n",
       "      <td>Colombo</td>\n",
       "      <td>7.0</td>\n",
       "      <td>79.899994</td>\n",
       "      <td>16</td>\n",
       "      <td>2010-01-02</td>\n",
       "      <td>0.1</td>\n",
       "      <td>26.2</td>\n",
       "      <td>29.9</td>\n",
       "      <td>23.5</td>\n",
       "    </tr>\n",
       "    <tr>\n",
       "      <th>2</th>\n",
       "      <td>Colombo</td>\n",
       "      <td>7.0</td>\n",
       "      <td>79.899994</td>\n",
       "      <td>16</td>\n",
       "      <td>2010-01-03</td>\n",
       "      <td>0.6</td>\n",
       "      <td>26.0</td>\n",
       "      <td>29.5</td>\n",
       "      <td>23.2</td>\n",
       "    </tr>\n",
       "    <tr>\n",
       "      <th>3</th>\n",
       "      <td>Colombo</td>\n",
       "      <td>7.0</td>\n",
       "      <td>79.899994</td>\n",
       "      <td>16</td>\n",
       "      <td>2010-01-04</td>\n",
       "      <td>0.0</td>\n",
       "      <td>25.3</td>\n",
       "      <td>28.9</td>\n",
       "      <td>21.9</td>\n",
       "    </tr>\n",
       "    <tr>\n",
       "      <th>4</th>\n",
       "      <td>Colombo</td>\n",
       "      <td>7.0</td>\n",
       "      <td>79.899994</td>\n",
       "      <td>16</td>\n",
       "      <td>2010-01-05</td>\n",
       "      <td>0.0</td>\n",
       "      <td>24.5</td>\n",
       "      <td>28.1</td>\n",
       "      <td>21.3</td>\n",
       "    </tr>\n",
       "  </tbody>\n",
       "</table>\n",
       "</div>"
      ],
      "text/plain": [
       "  location  latitude  longitude  elevation current-date  PRCP  TAVG  TMAX  \\\n",
       "0  Colombo       7.0  79.899994         16   2010-01-01   0.0  26.1  30.0   \n",
       "1  Colombo       7.0  79.899994         16   2010-01-02   0.1  26.2  29.9   \n",
       "2  Colombo       7.0  79.899994         16   2010-01-03   0.6  26.0  29.5   \n",
       "3  Colombo       7.0  79.899994         16   2010-01-04   0.0  25.3  28.9   \n",
       "4  Colombo       7.0  79.899994         16   2010-01-05   0.0  24.5  28.1   \n",
       "\n",
       "   TMIN  \n",
       "0  22.7  \n",
       "1  23.5  \n",
       "2  23.2  \n",
       "3  21.9  \n",
       "4  21.3  "
      ]
     },
     "execution_count": 44,
     "metadata": {},
     "output_type": "execute_result"
    }
   ],
   "source": [
    "# rename columns\n",
    "ext_fact_df2.rename(columns={\n",
    "    'city': 'location',\n",
    "    'time': 'current-date',\n",
    "    'precipitation_sum': 'PRCP',\n",
    "    'temperature_2m_mean': 'TAVG',\n",
    "    'temperature_2m_max': 'TMAX',\n",
    "    'temperature_2m_min': 'TMIN'}, inplace=True)\n",
    "ext_fact_df2.head()"
   ]
  },
  {
   "cell_type": "code",
   "execution_count": 45,
   "id": "93512f73-d355-442b-a23b-0b226cccaf8c",
   "metadata": {},
   "outputs": [
    {
     "data": {
      "text/plain": [
       "location\n",
       "Colombo                      4916\n",
       "Mount Lavinia                4916\n",
       "Hambantota                   4916\n",
       "Hatton                       4916\n",
       "Mabole                       4916\n",
       "Kurunegala                   4916\n",
       "Pothuhera                    4916\n",
       "Mannar                       4916\n",
       "Matale                       4916\n",
       "Bentota                      4916\n",
       "Kalutara                     4916\n",
       "Badulla                      4916\n",
       "Puttalam                     4916\n",
       "Gampaha                      4916\n",
       "Kolonnawa                    4916\n",
       "Matara                       4916\n",
       "Weligama                     4916\n",
       "Athurugiriya                 4916\n",
       "Jaffna                       4916\n",
       "Galle                        4916\n",
       "Trincomalee                  4916\n",
       "Kalmunai                     4916\n",
       "Sri Jayewardenepura Kotte    4916\n",
       "Negombo                      4916\n",
       "Kandy                        4916\n",
       "Ratnapura                    4916\n",
       "Maharagama                   4916\n",
       "Moratuwa                     4916\n",
       "Kesbewa                      4916\n",
       "Oruwala                      4916\n",
       "Name: count, dtype: int64"
      ]
     },
     "execution_count": 45,
     "metadata": {},
     "output_type": "execute_result"
    }
   ],
   "source": [
    "# check locations and data count\n",
    "ext_fact_df2['location'].value_counts()"
   ]
  },
  {
   "cell_type": "code",
   "execution_count": 46,
   "id": "b5a6f146-5bd6-42a5-aa62-5a6049522d6b",
   "metadata": {},
   "outputs": [
    {
     "name": "stdout",
     "output_type": "stream",
     "text": [
      "Successfully removed locations.\n"
     ]
    }
   ],
   "source": [
    "# remove not needed locations\n",
    "ext_fact_df2 = ext_fact_df2[(ext_fact_df2['location'] != 'Colombo') & \n",
    "(ext_fact_df2['location'] != 'Mount Lavinia') &\n",
    "(ext_fact_df2['location'] != 'Hambantota') &\n",
    "(ext_fact_df2['location'] != 'Hatton') &\n",
    "(ext_fact_df2['location'] != 'Mabole') &\n",
    "(ext_fact_df2['location'] != 'Kurunegala') &\n",
    "(ext_fact_df2['location'] != 'Pothuhera') &\n",
    "(ext_fact_df2['location'] != 'Mannar') &\n",
    "(ext_fact_df2['location'] != 'Matale') &\n",
    "(ext_fact_df2['location'] != 'Bentota') &\n",
    "(ext_fact_df2['location'] != 'Kalutara') &\n",
    "(ext_fact_df2['location'] != 'Badulla') &\n",
    "(ext_fact_df2['location'] != 'Puttalam') &\n",
    "(ext_fact_df2['location'] != 'Gampaha') &\n",
    "(ext_fact_df2['location'] != 'Kolonnawa') &\n",
    "(ext_fact_df2['location'] != 'Weligama') &\n",
    "(ext_fact_df2['location'] != 'Athurugiriya') &\n",
    "(ext_fact_df2['location'] != 'Galle') &\n",
    "(ext_fact_df2['location'] != 'Trincomalee') &\n",
    "(ext_fact_df2['location'] != 'Kalmunai') &\n",
    "(ext_fact_df2['location'] != 'Sri Jayewardenepura Kotte') &\n",
    "(ext_fact_df2['location'] != 'Negombo') &\n",
    "(ext_fact_df2['location'] != 'Ratnapura') &\n",
    "(ext_fact_df2['location'] != 'Maharagama') &\n",
    "(ext_fact_df2['location'] != 'Moratuwa') &\n",
    "(ext_fact_df2['location'] != 'Kesbewa') &\n",
    "(ext_fact_df2['location'] != 'Oruwala')].reset_index(drop=True)\n",
    "\n",
    "print(\"Successfully removed locations.\")"
   ]
  },
  {
   "cell_type": "code",
   "execution_count": 47,
   "id": "7ead12f5-23bc-4031-a130-7f3927e4102d",
   "metadata": {},
   "outputs": [
    {
     "data": {
      "text/plain": [
       "location\n",
       "Kandy     4916\n",
       "Jaffna    4916\n",
       "Matara    4916\n",
       "Name: count, dtype: int64"
      ]
     },
     "execution_count": 47,
     "metadata": {},
     "output_type": "execute_result"
    }
   ],
   "source": [
    "# check locations and data count again\n",
    "ext_fact_df2['location'].value_counts()"
   ]
  },
  {
   "cell_type": "code",
   "execution_count": 48,
   "id": "e204b1ce-2da1-4993-9695-6d9f5f51250e",
   "metadata": {},
   "outputs": [
    {
     "name": "stdout",
     "output_type": "stream",
     "text": [
      "                 min         max\n",
      "location                        \n",
      "Jaffna    2010-01-01  2023-06-17\n",
      "Kandy     2010-01-01  2023-06-17\n",
      "Matara    2010-01-01  2023-06-17\n"
     ]
    }
   ],
   "source": [
    "# check current date range\n",
    "date = ext_fact_df2.groupby('location')['current-date'].agg(['min', 'max'])\n",
    "print(date)"
   ]
  },
  {
   "cell_type": "code",
   "execution_count": 49,
   "id": "83629061-1743-4a8e-92b1-7bf2f7d570c7",
   "metadata": {},
   "outputs": [],
   "source": [
    "# getting only 2019-01-01 to forward dates\n",
    "ext_fact_df2 = ext_fact_df2[ext_fact_df2['current-date'] >= '2019-01-01']"
   ]
  },
  {
   "cell_type": "code",
   "execution_count": 50,
   "id": "12afab21-a00d-4dc5-b2fb-365f93f75bb3",
   "metadata": {},
   "outputs": [
    {
     "name": "stdout",
     "output_type": "stream",
     "text": [
      "                 min         max\n",
      "location                        \n",
      "Jaffna    2019-01-01  2023-06-17\n",
      "Kandy     2019-01-01  2023-06-17\n",
      "Matara    2019-01-01  2023-06-17\n"
     ]
    }
   ],
   "source": [
    "# check current date range again\n",
    "date = ext_fact_df2.groupby('location')['current-date'].agg(['min', 'max'])\n",
    "print(date)"
   ]
  },
  {
   "cell_type": "code",
   "execution_count": 58,
   "id": "523ccae0-815f-4933-b278-b72262d0ace0",
   "metadata": {},
   "outputs": [],
   "source": [
    "ext_fact_df2=ext_fact_df2.reset_index(drop=True)"
   ]
  },
  {
   "cell_type": "code",
   "execution_count": 52,
   "id": "ff826363-0bc2-47ad-8483-0682b2b89d17",
   "metadata": {},
   "outputs": [
    {
     "name": "stdout",
     "output_type": "stream",
     "text": [
      "<class 'pandas.core.frame.DataFrame'>\n",
      "RangeIndex: 4887 entries, 0 to 4886\n",
      "Data columns (total 9 columns):\n",
      " #   Column        Non-Null Count  Dtype  \n",
      "---  ------        --------------  -----  \n",
      " 0   location      4887 non-null   object \n",
      " 1   latitude      4887 non-null   float64\n",
      " 2   longitude     4887 non-null   float64\n",
      " 3   elevation     4887 non-null   int64  \n",
      " 4   current-date  4887 non-null   object \n",
      " 5   PRCP          4887 non-null   float64\n",
      " 6   TAVG          4887 non-null   float64\n",
      " 7   TMAX          4887 non-null   float64\n",
      " 8   TMIN          4887 non-null   float64\n",
      "dtypes: float64(6), int64(1), object(2)\n",
      "memory usage: 343.7+ KB\n"
     ]
    }
   ],
   "source": [
    "ext_fact_df2.info()"
   ]
  },
  {
   "cell_type": "code",
   "execution_count": 53,
   "id": "a729c4dd-01ff-43b4-9b56-3c799c3950df",
   "metadata": {},
   "outputs": [],
   "source": [
    "# replace values in 'location' column\n",
    "ext_fact_df2['location'] = ext_fact_df2['location'].replace({'Jaffna': 'Jaffna Proper',\n",
    "                                                           'Kandy': 'Kandy Proper',\n",
    "                                                           'Matara': 'Deniyaya, Matara'})"
   ]
  },
  {
   "cell_type": "code",
   "execution_count": 54,
   "id": "ab3434e0-6fc8-4584-8c2b-e03b1d8d245d",
   "metadata": {},
   "outputs": [
    {
     "data": {
      "text/plain": [
       "location\n",
       "Kandy Proper        1629\n",
       "Jaffna Proper       1629\n",
       "Deniyaya, Matara    1629\n",
       "Name: count, dtype: int64"
      ]
     },
     "execution_count": 54,
     "metadata": {},
     "output_type": "execute_result"
    }
   ],
   "source": [
    "# check location name changes\n",
    "ext_fact_df2['location'].value_counts()"
   ]
  },
  {
   "cell_type": "code",
   "execution_count": 62,
   "id": "c47680f6-5ed9-443d-8b04-1dc5bfd6eea6",
   "metadata": {},
   "outputs": [
    {
     "data": {
      "text/html": [
       "<div>\n",
       "<style scoped>\n",
       "    .dataframe tbody tr th:only-of-type {\n",
       "        vertical-align: middle;\n",
       "    }\n",
       "\n",
       "    .dataframe tbody tr th {\n",
       "        vertical-align: top;\n",
       "    }\n",
       "\n",
       "    .dataframe thead th {\n",
       "        text-align: right;\n",
       "    }\n",
       "</style>\n",
       "<table border=\"1\" class=\"dataframe\">\n",
       "  <thead>\n",
       "    <tr style=\"text-align: right;\">\n",
       "      <th></th>\n",
       "      <th>location</th>\n",
       "      <th>latitude</th>\n",
       "      <th>longitude</th>\n",
       "      <th>elevation</th>\n",
       "      <th>current-date</th>\n",
       "      <th>PRCP</th>\n",
       "      <th>TAVG</th>\n",
       "      <th>TMAX</th>\n",
       "      <th>TMIN</th>\n",
       "    </tr>\n",
       "  </thead>\n",
       "  <tbody>\n",
       "    <tr>\n",
       "      <th>0</th>\n",
       "      <td>Kurunegala Proper</td>\n",
       "      <td>7.467</td>\n",
       "      <td>80.367</td>\n",
       "      <td>116.0</td>\n",
       "      <td>2019-01-02</td>\n",
       "      <td>0.0</td>\n",
       "      <td>78.0</td>\n",
       "      <td>82.259307</td>\n",
       "      <td>72.0</td>\n",
       "    </tr>\n",
       "    <tr>\n",
       "      <th>1</th>\n",
       "      <td>Kurunegala Proper</td>\n",
       "      <td>7.467</td>\n",
       "      <td>80.367</td>\n",
       "      <td>116.0</td>\n",
       "      <td>2019-01-03</td>\n",
       "      <td>0.0</td>\n",
       "      <td>81.0</td>\n",
       "      <td>87.000000</td>\n",
       "      <td>71.0</td>\n",
       "    </tr>\n",
       "    <tr>\n",
       "      <th>2</th>\n",
       "      <td>Kurunegala Proper</td>\n",
       "      <td>7.467</td>\n",
       "      <td>80.367</td>\n",
       "      <td>116.0</td>\n",
       "      <td>2019-01-04</td>\n",
       "      <td>0.0</td>\n",
       "      <td>83.0</td>\n",
       "      <td>88.000000</td>\n",
       "      <td>69.0</td>\n",
       "    </tr>\n",
       "    <tr>\n",
       "      <th>3</th>\n",
       "      <td>Kurunegala Proper</td>\n",
       "      <td>7.467</td>\n",
       "      <td>80.367</td>\n",
       "      <td>116.0</td>\n",
       "      <td>2019-01-05</td>\n",
       "      <td>0.0</td>\n",
       "      <td>84.0</td>\n",
       "      <td>90.000000</td>\n",
       "      <td>65.0</td>\n",
       "    </tr>\n",
       "    <tr>\n",
       "      <th>4</th>\n",
       "      <td>Kurunegala Proper</td>\n",
       "      <td>7.467</td>\n",
       "      <td>80.367</td>\n",
       "      <td>116.0</td>\n",
       "      <td>2019-01-06</td>\n",
       "      <td>0.0</td>\n",
       "      <td>82.0</td>\n",
       "      <td>88.000000</td>\n",
       "      <td>71.0</td>\n",
       "    </tr>\n",
       "  </tbody>\n",
       "</table>\n",
       "</div>"
      ],
      "text/plain": [
       "            location  latitude  longitude  elevation current-date  PRCP  TAVG  \\\n",
       "0  Kurunegala Proper     7.467     80.367      116.0   2019-01-02   0.0  78.0   \n",
       "1  Kurunegala Proper     7.467     80.367      116.0   2019-01-03   0.0  81.0   \n",
       "2  Kurunegala Proper     7.467     80.367      116.0   2019-01-04   0.0  83.0   \n",
       "3  Kurunegala Proper     7.467     80.367      116.0   2019-01-05   0.0  84.0   \n",
       "4  Kurunegala Proper     7.467     80.367      116.0   2019-01-06   0.0  82.0   \n",
       "\n",
       "        TMAX  TMIN  \n",
       "0  82.259307  72.0  \n",
       "1  87.000000  71.0  \n",
       "2  88.000000  69.0  \n",
       "3  90.000000  65.0  \n",
       "4  88.000000  71.0  "
      ]
     },
     "execution_count": 62,
     "metadata": {},
     "output_type": "execute_result"
    }
   ],
   "source": [
    "final_weather_df = pd.concat([ext_fact_df1,ext_fact_df2])\n",
    "final_weather_df.head()"
   ]
  },
  {
   "cell_type": "code",
   "execution_count": 55,
   "id": "410729e4-4e80-458b-a789-3ed7e4bc7c3d",
   "metadata": {},
   "outputs": [],
   "source": [
    "# final_df = pd.merge(cities_df, ext_fact_df, on=['location', 'current-date'], how='inner')\n",
    "# final_df"
   ]
  }
 ],
 "metadata": {
  "kernelspec": {
   "display_name": "Python 3 (ipykernel)",
   "language": "python",
   "name": "python3"
  },
  "language_info": {
   "codemirror_mode": {
    "name": "ipython",
    "version": 3
   },
   "file_extension": ".py",
   "mimetype": "text/x-python",
   "name": "python",
   "nbconvert_exporter": "python",
   "pygments_lexer": "ipython3",
   "version": "3.8.19"
  }
 },
 "nbformat": 4,
 "nbformat_minor": 5
}
